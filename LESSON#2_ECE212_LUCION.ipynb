{
 "cells": [
  {
   "cell_type": "markdown",
   "metadata": {},
   "source": [
    "#  LESSON 2\n",
    "### Values and Data Types"
   ]
  },
  {
   "cell_type": "markdown",
   "metadata": {},
   "source": [
    "### Learning Objectives\n",
    "\n",
    "- Given some sample code identify variables that reference an object of a particular type\n",
    "\n",
    "- Given a variable of one type convert it to another\n",
    "\n",
    "- Simulate evaluation of an expression and assignment statement\n",
    "\n",
    "- Use reassignment to increment a variable (accumulator pattern)\n",
    "\n",
    "- Get input from a user and convert the input to the appropriate type\n",
    "\n",
    "- Identify the following types of values: strings, integers, floats, functions\n",
    "\n",
    "- Recognize valid vs. invalid variable names\n",
    "\n",
    "- Write an assignment statement"
   ]
  },
  {
   "cell_type": "markdown",
   "metadata": {},
   "source": [
    "### Introduction\n",
    "This chapter introduces ***several basic building blocks*** of Python\tprograms:\n",
    "\n",
    "- **literals**, like numbers and character strings\n",
    "\n",
    "- **operators**, like + and *\n",
    "\n",
    "- **function calls**, which take values as inputs and compute new values\n",
    "\n",
    "- **variables**, which save values so they can be used later in the program\n",
    "\n",
    "These are the basic\tbuilding blocks that are assembled to create programs that you interact\twith everyday from the software running\ton your smartwatch to the infrastructure behind\tthe largest websites, and every app\trunning on your\tphone."
   ]
  },
  {
   "cell_type": "markdown",
   "metadata": {},
   "source": [
    "### Activity\n",
    "Note: My answers are all in a **bold text**\n",
    "\n",
    "Check your understanding from previous lesson:\n",
    "\n",
    "\n",
    "**1.** An algorithm is:\n",
    "\n",
    "A.\tA solution to a problem\tthat can be\tsolved by a\tcomputer.\n",
    "\n",
    "**B.\tA step by step sequence\tof instructions\tthat if\tfollowed exactly will solve the problem under consideration.**\n",
    "\n",
    "C.\tA series of\tinstructions implemented in a programming language.\n",
    "\n",
    "D.\tA special kind of notation used by programmers.\n",
    "\n",
    "\n",
    "\n",
    "\n",
    "**2.** Source code is another name for:\n",
    "\n",
    "**A.\tthe\tinstructions in a program, written in a  high-level language.**\n",
    "\n",
    "B.\tthe\tlanguage that you are programming in (e.g., Python).\n",
    "\n",
    "C.\tthe\tenvironment/tool in\twhich you are programming.\n",
    "\n",
    "D.\tthe\tnumber (or\t“code”) that you must input at the top of each program to tell the computer\thow\tto execute your program.\n",
    "\n",
    "\n",
    "\n",
    "\n",
    "**3.** What is the difference between a high-level programming language and a low-level programming language?\n",
    "\n",
    "A.\tIt is high-level if you\tare standing and low-level if you are sitting.\n",
    "\n",
    "B.\tIt is high-level if\tyou\tare\tprogramming for\ta computer and low-level if\tyou\tare programming\tfor a phone\tor mobile device.\n",
    "\n",
    "**C.\tIt is high-level if\tthe program must be processed before it can run, and low-\n",
    "level if the computer can execute it without additional\tprocessing.**\n",
    "\n",
    "D.\tIt is high-level if\tit easy to program in and is very short; it\tis low-level if it is really hard to program in and\tthe  programs are really long.\n",
    "\n",
    "\n",
    "\n",
    "\n",
    "**4.** Pick the best replacements for 1 and 2 in  following the  sentence: When comparing compilers and interpreters,a compiler is like 1 while an interpreter is like 2.\n",
    "\t\n",
    "A.1 = a process, 2 = a function\n",
    "\n",
    "**B.1 = translating an entire book, 2 = translating a line at a time**\n",
    "\n",
    "C.1 = software, 2 = hardware\n",
    "\n",
    "D.1 = object code, 2 = byte code\n",
    "\n",
    "\n",
    "\n",
    "\n",
    "**5.** The activecode interpreter allows you to (select all that apply):\n",
    "\n",
    "**A. save programs and reload saved programs.**\n",
    "\n",
    "**B. type in Python source code.**\n",
    "\n",
    "**C. execute Python code right in the text itself within the web browser.**\n",
    "\n",
    "D. receive a yes/no answer about whether your code is correct or not.\n",
    "\n",
    "\n",
    "\n",
    "\n",
    "**6.** Codelens allows you to (select all that apply):\n",
    "\n",
    "A. measure the speed of a program’s execution.\n",
    "\n",
    "**B. control the step by step execution of a program.**\n",
    "\n",
    "C. write and execute your own Python code.\n",
    "\n",
    "**D. execute the Python code that is in codelens.**\n",
    "\n",
    "\n",
    "\n",
    "\n",
    "**7.** A program is:\n",
    "\n",
    "**A. a sequence of instructions that specifies how to perform a computation.**\n",
    "\n",
    "B. something you follow along at a play or concert.\n",
    "\n",
    "C. a computation, even a symbolic computation.\n",
    "\n",
    "D. the same thing as an algorithm.\n",
    "\n",
    "\n",
    "\n",
    "\n",
    "**8.** The differences between natural and formal languages include:\n",
    "\n",
    "A. natural languages can be parsed while\tformal languages cannot.\n",
    "\n",
    "**B. ambiguity, redundancy,and literalness.**\n",
    "\n",
    "C. there are no differences between natural and formal languages.\n",
    "\n",
    "D. tokens, structure, syntax, and semantics.\n",
    "\n",
    "\n",
    "\n",
    "\n",
    "**9.** True or False: Reading a program is like reading other kinds of text.\n",
    "\n",
    "A. True\n",
    "\n",
    "**B. False**\n",
    "\n",
    "\n",
    "\n",
    "\n",
    "**10.** The print function:\n",
    "\n",
    "A. sends information to the printer to be printed on paper.\n",
    "\n",
    "**B. displays a value on the screen.**\n",
    "\n",
    "C. tells the computer to put the information in print, rather than cursive, format.\n",
    "\n",
    "D. tells the computer to speak the information."
   ]
  },
  {
   "cell_type": "markdown",
   "metadata": {},
   "source": [
    "### Analysis\n",
    "\n",
    "***From the pretest above we understand that:***\n",
    "\n",
    "- If the instructions are strored in a file,it is called the **source code file**.\n",
    "\n",
    "\n",
    "- **Python** is a high level language but must be interpreted into machine code (binary) before it can be executed.\n",
    "\n",
    "- **Compilers** take the entire source code and produce object code or the executable and interpreters execute the code line by line.\n",
    "\n",
    "- You can (and should) save the contents of the **active code window**.\n",
    "\n",
    "- You are not limited to running the examples that are already there. Try adding to them and creating your own.\n",
    "\n",
    "- The **active code interpreter** will allow you type Python code into the textbox and then you can see it execute as the interpreter interprets and executes the source code.\n",
    "\n",
    "- By using **codelens**, you can control the execution of a program step by step. You can even go backwards!\n",
    "\n",
    "- By stepping forward through the **Python code** in codelens, you are executing the Python program.\n",
    "\n",
    "- All of these can be present in **natural languages**, but cannot exist in **formal languages**.\n"
   ]
  },
  {
   "cell_type": "markdown",
   "metadata": {},
   "source": [
    "### Abstraction\n",
    "\n",
    "#### 1 Values and Data Types\n",
    "##### value\n",
    "- It is one of the fundamental things—like a word or a number—that a program manipulates."
   ]
  },
  {
   "cell_type": "markdown",
   "metadata": {},
   "source": [
    "Classified into different classes, or data types:"
   ]
  },
  {
   "cell_type": "markdown",
   "metadata": {},
   "source": [
    "###### Integers\n",
    "Example:"
   ]
  },
  {
   "cell_type": "code",
   "execution_count": 1,
   "metadata": {},
   "outputs": [
    {
     "name": "stdout",
     "output_type": "stream",
     "text": [
      "5\n"
     ]
    }
   ],
   "source": [
    "x = 2\n",
    "print(int (x) + 3)"
   ]
  },
  {
   "cell_type": "markdown",
   "metadata": {},
   "source": [
    "###### String\n",
    "- It contains a sequence of letters           \n",
    "Example:"
   ]
  },
  {
   "cell_type": "code",
   "execution_count": 3,
   "metadata": {},
   "outputs": [
    {
     "name": "stdout",
     "output_type": "stream",
     "text": [
      "Hello, World!\n"
     ]
    }
   ],
   "source": [
    "print(\"Hello, World!\")"
   ]
  },
  {
   "cell_type": "markdown",
   "metadata": {},
   "source": [
    "√ We can specify values directly in the programs we write. For example we can specify a number as a **literal** just by (literally) typing it directly into the program (e.g., **5** or **4.32**). In a program, we specify  a word, or more generally a word, or more generally a string of characters, by enclosing the characters inside quotation marks (e.g., **\"Hello, World!\"**)."
   ]
  },
  {
   "cell_type": "markdown",
   "metadata": {},
   "source": [
    "###### Internal representation\n",
    "- These are objects or just values which ***Phyton interpreter*** creates during execution of a program."
   ]
  },
  {
   "cell_type": "markdown",
   "metadata": {},
   "source": [
    "###### Print function\n",
    "- It is use to see a printed representation in the output window, but you can’t directly see the internal representations of values."
   ]
  },
  {
   "cell_type": "markdown",
   "metadata": {},
   "source": [
    "√ **Python interpreter** doesn’t present the number 2014 as MMXIV in the output window. Thus, the printed representation of a number shown in the output window is the same as the literal that you specify in a program."
   ]
  },
  {
   "cell_type": "markdown",
   "metadata": {},
   "source": [
    "√ The **printed representation of a character string**, however, is ***not exactly the same*** as the literal used to specify the string in a program. For the literal in a program, you enclose the string in quotation marks. The printed representation, in the output window,omits the quotation marks."
   ]
  },
  {
   "cell_type": "code",
   "execution_count": 4,
   "metadata": {},
   "outputs": [
    {
     "name": "stdout",
     "output_type": "stream",
     "text": [
      "3.2\n",
      "Hello, World!\n"
     ]
    }
   ],
   "source": [
    "print(3.2)\n",
    "print(\"Hello, World!\")"
   ]
  },
  {
   "cell_type": "markdown",
   "metadata": {},
   "source": [
    "√ **Literals** appear in programs. The **Python interpreter** turns literals into values, which have **internal representations** that people never get to see directly. Outputs are **external representations** of values that appear in the output window. When we are being careful, we will use the terms this way. Sometimes, however, we will get a little sloppy and refer to ***literals or external representations*** as values."
   ]
  },
  {
   "cell_type": "markdown",
   "metadata": {},
   "source": [
    "***float***\n",
    "\n",
    "- A class of number with a decimal point. These numbers are represented in a format called **floating-point**."
   ]
  },
  {
   "cell_type": "markdown",
   "metadata": {},
   "source": [
    "###### list\n",
    "- Contents that are enclosed in square brackets [ ]. "
   ]
  },
  {
   "cell_type": "markdown",
   "metadata": {},
   "source": [
    "#### 1.1 Operators and Operands"
   ]
  },
  {
   "cell_type": "markdown",
   "metadata": {},
   "source": [
    "###### Operators\n",
    "- These are special tokens that represent computations like addition, multiplication and division."
   ]
  },
  {
   "cell_type": "markdown",
   "metadata": {},
   "source": [
    "###### Operands\n",
    "- The values the operator works on."
   ]
  },
  {
   "cell_type": "raw",
   "metadata": {},
   "source": [
    "The following are all legal Python expressions whose meaning is more or less clear:"
   ]
  },
  {
   "cell_type": "code",
   "execution_count": 5,
   "metadata": {
    "scrolled": true
   },
   "outputs": [
    {
     "data": {
      "text/plain": [
       "112"
      ]
     },
     "execution_count": 5,
     "metadata": {},
     "output_type": "execute_result"
    }
   ],
   "source": [
    "20 + 32\n",
    "5 ** 2\n",
    "(5 + 9) * (15 - 7)"
   ]
  },
  {
   "cell_type": "raw",
   "metadata": {},
   "source": [
    "The tokens +, -, and *, and the use of parentheses for grouping, mean in Python what they mean in mathematics. \n",
    "\n",
    "The Asterisk (*) is the token for multiplication, and ** is the token for exponentiation. Addition, subtraction, multiplication, and exponentiation all do what you expect."
   ]
  },
  {
   "cell_type": "raw",
   "metadata": {},
   "source": [
    "Remember that if we want to see the results of the computation, the program needs to specify that with the word print. The first three computations occur, but their results are not printed out."
   ]
  },
  {
   "cell_type": "code",
   "execution_count": 5,
   "metadata": {},
   "outputs": [
    {
     "name": "stdout",
     "output_type": "stream",
     "text": [
      "12\n"
     ]
    }
   ],
   "source": [
    "20 + 32\n",
    "5 ** 2\n",
    "(5 + 9) * (15 - 7)\n",
    "print(7 + 5)"
   ]
  },
  {
   "cell_type": "raw",
   "metadata": {},
   "source": [
    "In Phyton 3, which we will be using, the division operator / produces a floating point result (even if the result is an integer; 4/2 is 2.0). If you want truncated division, which ignores the remainder, you can use the // operator (for example, 5//2 is 2)."
   ]
  },
  {
   "cell_type": "code",
   "execution_count": 6,
   "metadata": {},
   "outputs": [
    {
     "name": "stdout",
     "output_type": "stream",
     "text": [
      "1.8\n",
      "0.5555555555555556\n",
      "1\n"
     ]
    }
   ],
   "source": [
    "print(9 / 5)\n",
    "print(5 / 9)\n",
    "print(9 // 5)"
   ]
  },
  {
   "cell_type": "raw",
   "metadata": {},
   "source": [
    "Pay particular attention to the examples above. Note that 9//5 truncates rather than rounding, so it produces the value 1 rather 2.\n",
    "\n",
    "The truncated division operator, //, also works on floating point numbers. It truncates to the nearest integer, but still produces a floating point result. Thus 7.0 // 3.0 is 2.0."
   ]
  },
  {
   "cell_type": "code",
   "execution_count": 7,
   "metadata": {},
   "outputs": [
    {
     "name": "stdout",
     "output_type": "stream",
     "text": [
      "2.3333333333333335\n",
      "2.0\n"
     ]
    }
   ],
   "source": [
    "print(7.0 / 3.0)\n",
    "print(7.0 // 3.0)"
   ]
  },
  {
   "cell_type": "markdown",
   "metadata": {},
   "source": [
    "√ The **modulus operator**, sometimes also called the ***remainder operator*** or ***integer remainder operator*** works on integers (and integer expressions) and yields the remainder when the first operand is divided by the second. In Python, the modulus operator is a percent sign (%). The syntax is the same as for other operators."
   ]
  },
  {
   "cell_type": "code",
   "execution_count": 6,
   "metadata": {},
   "outputs": [
    {
     "name": "stdout",
     "output_type": "stream",
     "text": [
      "2\n",
      "1\n"
     ]
    }
   ],
   "source": [
    "print(7 // 3) # This is the integer division operator\n",
    "print(7 % 3) # This is the remainder or modulus operator"
   ]
  },
  {
   "cell_type": "markdown",
   "metadata": {},
   "source": [
    "√ In the above example, **7** divided by **3** is ***2*** when we use integer division and there is a remainder of ***1***.\n",
    "\n",
    "√ The **modulus operator** turns out to be surprisingly useful. For example, you can check whether one number is divisible by another—if **x** ***%*** **y** is zero, then **x** is divisible by **y**. Also,you can extract the\tright-most digit or digits from a number. For example, **x** ***%*** **10** yields the right-most digit of **x** (in base 10). Similarly **x** ***%*** **100** yields the last two digits."
   ]
  },
  {
   "cell_type": "raw",
   "metadata": {},
   "source": [
    "#### 1.2 Function Calls"
   ]
  },
  {
   "cell_type": "markdown",
   "metadata": {},
   "source": [
    "The **Python interpreter** can compute new values with function calls. You are familiar with the idea of functions from high school algebra. There you might define a function f by specifying how it transforms an input into an output, ***f(x) = 3x + 2***. Then, you might write ***f(5)*** and expect to get the value ***17***.\n",
    "\n",
    "Python adopts a similar syntax for invoking functions. If there is a named **function** ***foo*** that takes a single input, we can invoke ***foo*** on the value **5** by writing ***foo***(**5**)."
   ]
  },
  {
   "cell_type": "markdown",
   "metadata": {},
   "source": [
    "√ **Functions** are like factories that take in some material, do some operation, and then send out the resulting object."
   ]
  },
  {
   "cell_type": "markdown",
   "metadata": {},
   "source": [
    "••• Don’t confuse the **“output value”** of a function with the output window. The output of a function is a Python value and we can never really see the internal representation of a value. But we can draw pictures to help us imagine what values are, or we can print them to see an external representation in the output window.\n",
    "\n",
    "To confuse things even more, **print** is actually a function. All functions produce output values. Only the **print function** causes things to appear in the output window.\n",
    "\n",
    "It is also possible for programmers to define new functions in their programs. You will learn how to do that later in the course. For now, you just need to learn how to invoke, or call, a function, and understand that the execution of the function returns a computed value."
   ]
  },
  {
   "cell_type": "code",
   "execution_count": 7,
   "metadata": {},
   "outputs": [],
   "source": [
    "def square(x):\n",
    " return x * x\n",
    "def sub(x, y):\n",
    " return x - y"
   ]
  },
  {
   "cell_type": "markdown",
   "metadata": {},
   "source": [
    "**square**\n",
    "- It takes a single input parameter, and returns that input multiplied by itself."
   ]
  },
  {
   "cell_type": "markdown",
   "metadata": {},
   "source": [
    "**sub**\n",
    "- It takes two input parameters and returns the result of subtracting the second from \n",
    "the first. "
   ]
  },
  {
   "cell_type": "markdown",
   "metadata": {},
   "source": [
    "*The code below illustrates how the square function works.*"
   ]
  },
  {
   "cell_type": "code",
   "execution_count": 8,
   "metadata": {},
   "outputs": [
    {
     "name": "stdout",
     "output_type": "stream",
     "text": [
      "9\n",
      "2\n",
      "-4\n"
     ]
    }
   ],
   "source": [
    "print(square(3))\n",
    "square(5)\n",
    "print(sub(6, 4))\n",
    "print(sub(5, 9))"
   ]
  },
  {
   "cell_type": "raw",
   "metadata": {},
   "source": [
    "Notice that when a function takes more than one input parameter, the inputs are separated by a comma. Also notice that the order of the inputs matters. The value before the comma is treated as the first input, the value after it as the second input."
   ]
  },
  {
   "cell_type": "markdown",
   "metadata": {},
   "source": [
    "*Again, remember that when Python performs computations, the results are only shown in the output window if there’s a print statement that says to do that. In the activecode window above, square(5) produces the value 25 but we never get to see that in the output window, because it is not printed.*"
   ]
  },
  {
   "cell_type": "markdown",
   "metadata": {},
   "source": [
    "#### 1.2.1 Function calls as part of complex expressions"
   ]
  },
  {
   "cell_type": "markdown",
   "metadata": {},
   "source": [
    "Anywhere in an expression that you can write a literal like a number, you can also write a function invocation that produces a number.\n",
    "\n",
    "For\texample:"
   ]
  },
  {
   "cell_type": "code",
   "execution_count": 9,
   "metadata": {
    "scrolled": true
   },
   "outputs": [
    {
     "name": "stdout",
     "output_type": "stream",
     "text": [
      "11\n",
      "5\n",
      "5\n",
      "5\n",
      "5\n",
      "5\n",
      "5\n"
     ]
    }
   ],
   "source": [
    "print(square(3) + 2)\n",
    "print(sub(square(3), square(1+1)))\n",
    "\n",
    "#Notice that we always have to resolve the expression inside the innermost parentheses first,\n",
    "#in order to determine what input to to determine what input to provide when calling the functions. \n",
    "\n",
    "print(sub(square(3), square(1+1)))\n",
    "print(sub(9, square(1+1)))\n",
    "print(sub(9, square(2)))\n",
    "print(sub(9, 4))\n",
    "print(5)"
   ]
  },
  {
   "cell_type": "markdown",
   "metadata": {},
   "source": [
    "#### 1.2.2 Functions are objects; parentheses invoke functions\n",
    "\n",
    "Functions are themselves just objects. If you tell Python to print the function object, rather than printing the results of invoking the function object, you’ll get one of those not-so-nice printed representations.\n",
    "\n",
    "Typing the name of the function followed by parentheses () invokes the function."
   ]
  },
  {
   "cell_type": "markdown",
   "metadata": {},
   "source": [
    "### Application\n",
    "\n",
    "Distance Between Two Points\ton Earth (27 Lines)\t\n",
    "\n",
    "The\tsurface\tof the Earth is\tcurved, and\tthe\tdistance between degrees of longitude varies with latitude.\tAs a result, finding the distance between two points on the surface of the Earth is more complicated than simply using the Pythagorean theorem.\n",
    "\n",
    "Let\t(t1, g1) and (t2, g2) be the latitude and longitude\tof two points on the Earth’s surface. The distance between these points, following the surface of the Earth, in kilometers is:\t \t \t \t \t \t \t \t \t \t \t \t\n",
    "distance = 6371.01 × arccos(sin(t1) × sin(t2) + cos(t1) × cos(t2) × cos(g1 − g2))\n",
    "\n",
    "The value 6371.01 in the previous equation wasn’t selected at random. It is the average radius of the Earth in kilometers"
   ]
  },
  {
   "cell_type": "code",
   "execution_count": 10,
   "metadata": {},
   "outputs": [
    {
     "name": "stdout",
     "output_type": "stream",
     "text": [
      "Enter the latitude and longitude of two points on the Earth in degrees:\n",
      " Latitude 1: 53.32055555555556\n",
      " Latitude 2: 53.31861111111111\n",
      " Longitude 1: -1.7297222222222221\n",
      " Longitude 2: -1.6997222222222223\n",
      "Distance is:  2.0043678382716137 Kilometers\n"
     ]
    }
   ],
   "source": [
    "##\n",
    "#Python's program to calculate Distance Between Two Points on Earth\n",
    "##\n",
    "from math import radians, cos, sin, asin, sqrt\n",
    " \n",
    "#Read the input from user\n",
    "print(\"Enter the latitude and longitude of two points on the Earth in degrees:\")\n",
    "lat1 = float(input(\" Latitude 1: \"))\n",
    "lat2 = float(input(\" Latitude 2: \"))\n",
    "lon1 = float(input(\" Longitude 1: \"))\n",
    "lon2 = float(input(\" Longitude 2: \"))\n",
    " \n",
    "# The math module contains a function named radians which converts from degrees to radians.\n",
    "lon1 = radians(lon1)\n",
    "lon2 = radians(lon2)\n",
    "lat1 = radians(lat1)\n",
    "lat2 = radians(lat2)\n",
    " \n",
    "# Haversine formula \n",
    "dlon = lon2 - lon1 \n",
    "dlat = lat2 - lat1 \n",
    "a = sin(dlat/2)**2 + cos(lat1) * cos(lat2) * sin(dlon/2)**2\n",
    "c = 2 * asin(sqrt(a)) \n",
    "r = 6371 # Radius of earth in kilometers. Use 3956 for miles\n",
    " \n",
    "#Display the result\n",
    "print(\"Distance is: \",c*r,\"Kilometers\")\n"
   ]
  }
 ],
 "metadata": {
  "kernelspec": {
   "display_name": "Python 3",
   "language": "python",
   "name": "python3"
  },
  "language_info": {
   "codemirror_mode": {
    "name": "ipython",
    "version": 3
   },
   "file_extension": ".py",
   "mimetype": "text/x-python",
   "name": "python",
   "nbconvert_exporter": "python",
   "pygments_lexer": "ipython3",
   "version": "3.8.3"
  }
 },
 "nbformat": 4,
 "nbformat_minor": 4
}
