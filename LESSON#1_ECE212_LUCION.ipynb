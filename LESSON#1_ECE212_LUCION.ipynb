{
 "cells": [
  {
   "cell_type": "markdown",
   "metadata": {},
   "source": [
    "# Module 1:\tIntroduction to\tScientific Computing"
   ]
  },
  {
   "cell_type": "markdown",
   "metadata": {},
   "source": [
    "## Introduction\n",
    "\n",
    "The\tgoal\tof\tthis\tcoursepack is\tto\tteach\tyou\tto\tunderstand\tand\tcreate\tcomputer\tprograms in\tPython.\tAt\tthe\tbeginning\tof\teach\tchapter,\twe\twill\toutline\tfor\tyou\tthe\tlearning\tgoals\tand objectives\tthat\tshould\tbe\taccomplished\tonce\tyou\thave\tgone\tthrough\tthe\tchapter.\n",
    "\n",
    "Understanding\tcomputer\tprograms\trequires\talgorithmic,\tmechanistic\tthinking.\tPrograms specify\tmechanistic\tsequences\tof\tactions\tto\tperform;\twhen\texecuted,\tthey\ttransform\tinput data\t into\t output\t data.\t They\t execute\t very\t reliably,\t and\t very\t fast,\t but\t not\t creatively. Computers\t do\t what\t you\t tell\t them\t to\t do,\t not\t what\t you\t mean\t for\t them\t to\t do.\t Thus, understanding\tcomputer\tcode\tinvolves\ta\tlot\tof\tmental\tsimulation\tof\twhat\twill\tactually happen,\tnot\twhat\tyou\twish\twould\thappen.\n",
    "\n",
    "Writing\tcomputer\tprograms\trequires\tnot\tonly\tmechanistic\tthinking\tbut\tcreative\tproblem solving.\tProblem\tsolving\tmeans\tthe\tability\tto\tformulate\tproblems,\tthink\tcreatively\tabout solutions,\tand\texpress\ta\tsolution\tclearly\tand\taccurately.\tAs\tit\t turns\tout,\t the\tprocess\tof learning\tto\tprogram\tis\tan\texcellent\topportunity\tto\tpractice\tproblem\tsolving\tskills."
   ]
  },
  {
   "cell_type": "markdown",
   "metadata": {},
   "source": [
    "## Activity"
   ]
  },
  {
   "cell_type": "markdown",
   "metadata": {},
   "source": [
    "1. Why\tdo\tyou\tthink\tuderstanding\tcomputer\tprograms\tis\trelevant\tin\tour\ttime\ttoday especially\tin\tthe\tnew\tnormal?\n",
    " * I think understanding computer programs is relevant\tin\tour\ttime\ttoday especially\tin\tthe\tnew\tnormal because all classes today was based on online learning, so students are now using computer today as their tool for online communication or meeting on a different online platforms like UVE, Messenger, Google meet, and many more as their medium for their class meetings and related updates.\n",
    "\n",
    "\n",
    "2. If\tyou\twere\table\tto\tlearn\tcomputer\tprogram\twhat\tprogram\twill\tyou code? Why?\t\n",
    " * I want to learn Python programming language because this is the current lesson that was discussed by our professor in the course that I've had enrolled which is   Fundamentals of Scientific Computing . I think this Python programming language will help me in the future through my field of work as a future Electronics Engineer.\n",
    "\n",
    "\n",
    "3. What\twould\tbe\tyour\tprimary\tmotivation\tin\tlearning\tprogramming?\n",
    " * My primary motivation in learning programming is my course because phyton programming is our lesson for this semester, though I'm not fast learner but I will do my very best to learn more."
   ]
  },
  {
   "cell_type": "markdown",
   "metadata": {},
   "source": [
    "## The Python Programming Language"
   ]
  },
  {
   "cell_type": "markdown",
   "metadata": {},
   "source": [
    "Python is a high-level programing language like other programing languages such as C++, PHP, and Java. Machine and assembly languages are belong to low-level programing languages, they can only execute at low-level language. One of the main disadvantage of a high-level languages is that it will consume more time on processing the program before it can run, but it has many advantages though. High-level languages are much easier\tto\tprogram, take less time to write, shorter and easier to\tread, more likely to be correct. \n",
    "\n",
    "One of the difference between the high-level languages and low-level languages is their portability. High-level languages can run on different computers while low-level languages can only run on one computer. Almost\tall\tprograms are written in\thigh-level languages. Low-level languages are used\tonly for a few specialized\tapplications.\n",
    "\n",
    "Interpreters and compilers are the two kinds of high-level languages into low-level languages. An interpreter does what the program says and take less time on processing the program. A compiler reads\t the\t program\t and\t translates\tit\t completely\t before\t the\t program\t starts running.\tIn\tthis\tcase,\tthe\thigh-level\tprogram\tis\tcalled\tthe source\tcode,\tand\tthe\ttranslated program\tis\tcalled\tthe object\tcode or\tthe executable.\tOnce\ta\tprogram\tis\tcompiled,\tyou\tcan execute\tit\trepeatedly\twithout\tfurther\ttranslation.\n",
    "\n",
    "The first\tcompiled\tinto\ta\tlower\tlevel language is called byte\tcode and then become a virtual machine when the program interpreted it. Both are used in processing, but programmers usually considered interpreted language."
   ]
  },
  {
   "cell_type": "markdown",
   "metadata": {},
   "source": [
    "## 1.1  More About Programs"
   ]
  },
  {
   "cell_type": "markdown",
   "metadata": {},
   "source": [
    "A program is\ta\tsequence\tof\tinstructions\tthat\tspecifies\thow\tto\tperform\ta\tcomputation.\tThe computation\tmight\tbe\tsomething\tas\tcomplex\tas\trendering\tan\thtml\tpage\tin\ta\tweb\tbrowser or\t encoding\t a\t video\t and\t streaming\t it\t across\t the\t network.\t It\t can\t also\t be\t a\t symbolic computation,\tsuch\tas\tsearching\tfor\tand\treplacing\ttext\tin\ta\tdocument\tor\t(strangely\tenough) compiling\ta\tprogram."
   ]
  },
  {
   "cell_type": "markdown",
   "metadata": {},
   "source": [
    "The\tdetails\tlook\tdifferent\tin\tdifferent\tlanguages,\tbut\ta\tfew\tbasic\tinstructions\tappear\tin\tjust\t\n",
    "about\tevery\tlanguage."
   ]
  },
  {
   "cell_type": "markdown",
   "metadata": {},
   "source": [
    "#### input\n",
    "* Get\tdata\tfrom\tthe\tkeyboard,\ta\tfile,\tor\tsome\tother\tdevice.\n",
    "\n",
    "#### output\t\n",
    "* Display\tdata\ton\tthe\tscreen\tor\tsend\tdata\tto\ta\tfile\tor\tother\tdevice.\n",
    "\n",
    "#### math\tand\tlogic \n",
    "* Perform\tbasic\tmathematical\toperations\tlike\taddition\tand\tmultiplication\tand\tlogical\toperations\tlike and, or,\tand not.\n",
    "\n",
    "#### conditional\texecution\t\n",
    "* Check\tfor certain\tconditions\tand\texecute\tthe\tappropriate\tsequence\tof\tstatements.\n",
    "\n",
    "#### repetition\t\n",
    "* Perform\tsome\taction\trepeatedly,\tusually\twith\tsome\tvariation."
   ]
  },
  {
   "cell_type": "markdown",
   "metadata": {},
   "source": [
    "Programming is described \t as\t the\t process\t of\t breaking\t a\t large,\t complex\t task\t into\tsmaller\tand\tsmallersubtasks\tuntil\tthe\tsubtasks\tare\tsimple enough\tto\tbe\tperformed\twith\tsequences\tof\tthese\tbasic instructions."
   ]
  },
  {
   "cell_type": "markdown",
   "metadata": {},
   "source": [
    "##  1.2 Review of Control Structures"
   ]
  },
  {
   "cell_type": "markdown",
   "metadata": {},
   "source": [
    "###### \"for\" loop\n",
    "* Can use to look\tat\tstrings character-by-character\tor\tlists\titem-by-item.\n",
    "\n",
    "###### \"while\" loop\n",
    "* Use\tthis if\tyou\twant\tto\treceive\tinput\tfrom\tthe\tuser\tof\tyour\tprogram.\n",
    "\n",
    "###### \"conditional\"\n",
    "* Will\tallow\tus\tto\tonly\trun\tparts\tof\tour\tprograms\tor\tonly\tdo\tsome\ttask\tif\ta\tcertain\t set\t of\tconditions\tare\t found."
   ]
  },
  {
   "cell_type": "markdown",
   "metadata": {},
   "source": [
    "\n"
   ]
  },
  {
   "cell_type": "markdown",
   "metadata": {},
   "source": [
    "##  1.3 Formal and Natural Languages"
   ]
  },
  {
   "cell_type": "markdown",
   "metadata": {},
   "source": [
    "#### Natural\tlanguages \n",
    "These are\tthe\tlanguages\tthat\tpeople\tspeak,\tsuch\tas\tEnglish,\tSpanish,\tKorean, and\tMandarin\tChinese.\tThey\twere\tnot\tdesigned\tby\tpeople\t(although\tpeople\ttry\tto\timpose some\torder\ton them);\tthey\tevolved\tnaturally."
   ]
  },
  {
   "cell_type": "markdown",
   "metadata": {},
   "source": [
    "#### Formal\tlanguages\n",
    "These are\tlanguages\tthat\tare\tdesigned\tby\tpeople\tfor\tspecific\tapplications.\tFor example,\tthe\tnotation\tthat\tmathematicians\tuse\tis\ta\tformal\tlanguage\tthat\tis\tparticularly good\t at\t denoting\t relationships\t among\t numbers\t and\t symbols."
   ]
  },
  {
   "cell_type": "markdown",
   "metadata": {},
   "source": [
    "#### Syntax\trules\t\n",
    "Come\tin\ttwo\tflavors,\tpertaining\tto tokens and\tstructure.\n",
    "* Tokens\tare\tthe\tbasic elements\tof\t the\tlanguage,\tsuch\tas\twords,\tnumbers,\tand\tchemical\telements.\n",
    "* Structure of\ta\tstatement is the\tway\tthe\ttokens\tare\tarranged."
   ]
  },
  {
   "cell_type": "markdown",
   "metadata": {},
   "source": [
    "#### Parsing\n",
    "* In\ta\t formal\tlanguage,\tyou\thave\tto figure\tout\twhat\tthe\tstructure\tof\tthe\tsentence."
   ]
  },
  {
   "cell_type": "markdown",
   "metadata": {},
   "source": [
    "#### Semantics\n",
    "* \tYou\twill\tunderstand\tthe\tgeneral\timplication\tof\tthe\tsentence once you have parsed it."
   ]
  },
  {
   "cell_type": "markdown",
   "metadata": {},
   "source": [
    "Although\t formal\t and\t natural\t languages\t have\t many\t features\t in\t common\t — tokens, structure,\tsyntax,\tand\tsemantics — there\tare\tmany\tdifferences:"
   ]
  },
  {
   "cell_type": "markdown",
   "metadata": {},
   "source": [
    "1. Ambiguity\n",
    " * Natural\tlanguages\tare\tfull\tof\tambiguity,\twhich\tpeople\tdeal\twith\tby\tusing\tcontextual\tclues\tand\tother\tinformation.\tFormal\tlanguages\tare\tdesigned\tto\t be\t nearly\t or\t completely\t unambiguous,\t which\t means\t that\t any\tstatement\thas\texactly\tone\tmeaning,\tregardless\tof\tcontext.\n",
    "\n",
    "\n",
    "2. Redundancy\t\n",
    " * In\t order\t to\t make\t up\t for\t ambiguity\t and\t reduce\t misunderstandings,\tnatural\tlanguages\temploy\tlots\tof\tredundancy.\tAs\ta\tresult,\tthey\tare\toften\tverbose.\tFormal\tlanguages\tare\tless\tredundant\tand\tmore\tconcise.\n",
    " \n",
    " \n",
    "3. Literalness\t\n",
    " * Formal\t languages\t mean\t exactly\t what\t they\t say.\t On\t the\t other\t hand, natural\tlanguages\tare\tfull\tof\tidiom\tand\tmetaphor.\tIf\tsomeone\tsays,\t“The\tother\tshoe\tfell”,\tthere\tis\tprobably\tno\tshoe\tand\tnothing\tfalling.\n",
    " * People\twho\tgrow\tup\tspeaking\ta\tnatural\tlanguage—that\tis,\teveryone—often\thave\ta\thard\ttime\tadjusting\tto\tformal\tlanguages.\tIn\tsome\tways,\tthe\tdifference\tbetween\tnatural\tand\t formal\tlanguage\tis\tlike\t the\tdifference\tbetween\tpoetry\tand\tprose,\tbut\tmore\tso:\n",
    " \n",
    " \n",
    "4. Poetry\t\n",
    " * Words\tare\tused\tfor\ttheir\tsounds\tas\twell\tas\tfor\ttheir\tmeaning,\tand\tthe\twhole\t poem\t together\t creates\t an\t effect\t or\t emotional\t response.\tAmbiguity\tis\tnot\tonly\tcommon\tbut\toften\tdeliberate.\n",
    " \n",
    " \n",
    "5. Prose\t\n",
    " * The\t literal\t meaning\t of\t words\t is\t more\t important,\t and\t the\t structure\tcontributes\tmore\tmeaning.\t Prose\tis\tmore\t amenable\tto\t analysis\t than\tpoetry\tbut\tstill\toften\tambiguous.\n",
    " \n",
    " \n",
    "6. Program\t\n",
    " * The\tmeaning\tof\ta\tcomputer\tprogram\tis\tunambiguous\tand\tliteral,\tand\tcan\tbe\tunderstood\tentirely\tby\tanalysis\tof\tthe\ttokens\tand\tstructure."
   ]
  },
  {
   "cell_type": "markdown",
   "metadata": {},
   "source": [
    "## 1.4  A Typical First Program"
   ]
  },
  {
   "cell_type": "code",
   "execution_count": 2,
   "metadata": {},
   "outputs": [
    {
     "name": "stdout",
     "output_type": "stream",
     "text": [
      "Hello, World!\n"
     ]
    }
   ],
   "source": [
    "print(\"Hello, World!\") \n",
    "## First program in all programming languages\n",
    "## Uses an example of a Print function that displays a value on the screen.\n",
    "## Quotation marks serves as the beginning and end of the value\n",
    "## Comments are represented first by the \"#\" token that is completely ignored by the interpreter\""
   ]
  },
  {
   "cell_type": "markdown",
   "metadata": {},
   "source": [
    "## Application"
   ]
  },
  {
   "cell_type": "markdown",
   "metadata": {},
   "source": [
    "#### Ask yourself:\n",
    "\n",
    "1. Why\tdo\t you\t think\tPython\tis\t the\tmost\tapplicable\tprogramming\tlanguage\t for\tscientific\tcomputing?\n",
    " * I think\tPython\tis\t the\tmost\tapplicable\tprogramming\tlanguage\t for\tscientific\tcomputing because it is a high-level language that easy to learn, take less time to write, shorter and easier to read. It is widely used because it can run on different computers.\n",
    "\n",
    "\n",
    "2. If\tPython\tcan\tbuild\tanything,\twhere\tdo\tyou\tthink\tPython\tis\tnot\tapplicable\tfor?\n",
    " * I think\tPython\tis\tnot\tapplicable\tfor developing mobile and game apps because it takes more time to run and usually consume more memory.\n",
    "    "
   ]
  },
  {
   "cell_type": "markdown",
   "metadata": {},
   "source": [
    "#### Exercise\t1:\tMailing\tAddress\t(Solved,\t9\tLines)\n",
    "Create\ta\tprogram\tthat\tdisplays\tyour\tname\tand\tcomplete\tmailing\taddress.\tThe\taddress should\tbe\tprinted\tin the\tformat\tthat\tis\tnormally\tused\tin\tthe\tarea\twhere\tyou\tlive.\tYour program\tdoes\tnot\tneed\tto\tread any\tinput\tfrom\tthe\tuser."
   ]
  },
  {
   "cell_type": "code",
   "execution_count": null,
   "metadata": {},
   "outputs": [
    {
     "name": "stdout",
     "output_type": "stream",
     "text": [
      "Fullname:Jimboy D. Lucion\n",
      "Address:Sanjose Village Zone IV Santa Cruz Davao del Sur\n",
      "Barangay:Zone IV\n",
      "City/Municipality/Province:Santa Cruz Davao del Sur\n",
      "Postal Code:8001\n",
      "Country:Philippines\n"
     ]
    }
   ],
   "source": [
    "Fullname = input(\"Fullname:\")\n",
    "Address = input(\"Address:\")\n",
    "Barangay = input(\"Barangay:\")\n",
    "City = input(\"City/Municipality/Province:\")\n",
    "Postal = input(\"Postal Code:\")\n",
    "Country = input(\"Country:\")\n",
    "Tel = input(\"Tel.:\")\n",
    "Contact = input(\"Contact no.:\")\n",
    "Email = input(\"E-mail:\")"
   ]
  },
  {
   "cell_type": "markdown",
   "metadata": {},
   "source": [
    "#### Exercise 2:\tArea\tof\ta\tRoom\t(Solved,\t13\tLines)\n",
    "Write a\tprogram\tthat\tasks\tthe\tuser\tto\tenter\tthe\twidth\tand\tlength\tof\ta\troom.\tOnce these\tvalues\thave been read,\tyour\tprogram\tshould\tcompute\tand\tdisplay\tthe\tarea\tof the\troom.\tThe\tlength\tand\tthe\twidth\twill\tbe\tentered\tas\tfloating-point\tnumbers.\tInclude units\tin\tyour\tprompt\tand\toutput\tmessage;\teither\tfeet\tor\tmeters,\tdepending\ton\twhich unit\tyou\tare\tmore\tcomfortable\tworking\twith."
   ]
  },
  {
   "cell_type": "code",
   "execution_count": 5,
   "metadata": {},
   "outputs": [
    {
     "name": "stdout",
     "output_type": "stream",
     "text": [
      "Units:\n",
      "1. Meters\n",
      "2. Feet\n",
      "\n",
      "Enter choice: 1\n",
      "Lenght in meters:15\n",
      "Width in meters:20\n",
      "\n",
      "The Area of the rectangle is 300.0 sq.m.\n"
     ]
    }
   ],
   "source": [
    "class Rectangle():\n",
    "    def __init__(R, l, w):\n",
    "        R.length = l\n",
    "        R.width  = w\n",
    "    def rectangle_area (R):\n",
    "        return R.length*R.width\n",
    "        \n",
    "class Unit():\n",
    "    def meters(m):\n",
    "        m = meters\n",
    "    def feet (ft):\n",
    "        ft = feet\n",
    "\n",
    "print(\"Units:\")\n",
    "print(\"1. Meters\")\n",
    "print(\"2. Feet\")\n",
    "print(\"\")\n",
    "\n",
    "while True:\n",
    "    # Take input from the user\n",
    "    choice = input(\"Enter choice: \")\n",
    "    \n",
    "    # Check if choice is one of the two options\n",
    "    \n",
    "    if choice in ('1', '2'):\n",
    "            m = str(\"sq.m.\")\n",
    "            ft = str(\"sq.ft.\")\n",
    "   \n",
    "\n",
    "            if choice == '1':\n",
    "                    l = float(input(\"Lenght in meters:\"))\n",
    "                    w = float(input(\"Width in meters:\"))\n",
    "                    A = Rectangle(l, w)\n",
    "                    \n",
    "                    print(\"\")\n",
    "                    print(\"The Area of the rectangle is\",A.rectangle_area(), m )\n",
    "\n",
    "            elif choice == '2':\n",
    "                    l = float(input(\"Lenght in feet:\"))\n",
    "                    w = float(input(\"Width in feet:\"))\n",
    "                    A = Rectangle(l, w)\n",
    "                    \n",
    "                    print(\"\")\n",
    "                    print(\"The Area of the rectangle is\",A.rectangle_area(), ft )\n",
    "            break\n",
    "else:\n",
    "     print(\"Invalid Input\")"
   ]
  },
  {
   "cell_type": "markdown",
   "metadata": {},
   "source": [
    "#### Exercise 3: Arithmetic (Solved, 22 Lines) \n",
    "\n",
    "Create a program that reads two integers, a and b, from the user. Your program should compute and display:\n",
    "\n",
    "* The sum of a and b \n",
    "* The difference when b is subtracted from a \n",
    "* The product of a and b \n",
    "* The quotient when a is divided by b \n",
    "* The remainder when a is divided by b \n",
    "* The result of log10 a \n",
    "* The result of ab \n",
    "\n",
    "Hint: You will probably find the log10 function in the math module helpful for computing the second last item in the list."
   ]
  },
  {
   "cell_type": "code",
   "execution_count": 6,
   "metadata": {},
   "outputs": [
    {
     "name": "stdout",
     "output_type": "stream",
     "text": [
      "Operations\n",
      "1. SUM\n",
      "2. DIFFERENCE\n",
      "3. PRODUCT\n",
      "4. QUOTIENT\n",
      "5. REMAINDER\n",
      "6. LOG BASE 10\n",
      "7. LOG ab\n",
      "\n",
      "Enter choice: 1\n",
      "\n",
      "Enter two integers to get the sum.\n",
      "Enter an integer:1\n",
      "Enter another integer:2\n",
      "\n",
      "The sum of two integers is  3.0 .\n"
     ]
    }
   ],
   "source": [
    "import math\n",
    "\n",
    "def add(a,b):       # function for addition\n",
    "    sum=a+b;\n",
    "    return sum;\n",
    "\n",
    "def subtract(a,b):  # function for subtraction\n",
    "    min=a-b;\n",
    "    return min;\n",
    "\n",
    "def multiply(a,b):  # function for multiplication\n",
    "    product=a*b;\n",
    "    return product;\n",
    "\n",
    "def divide(a,b):    # function for divisiom\n",
    "    quotient=a/b;\n",
    "    return quotient;\n",
    "\n",
    "def remainder(a,b): # function for remainder\n",
    "    rader=a%b;\n",
    "    return rader;\n",
    "    \n",
    "print(\"Operations\")\n",
    "print(\"1. SUM\")\n",
    "print(\"2. DIFFERENCE\")\n",
    "print(\"3. PRODUCT\")\n",
    "print(\"4. QUOTIENT\")\n",
    "print(\"5. REMAINDER\")\n",
    "print(\"6. LOG BASE 10\")\n",
    "print(\"7. LOG ab\")\n",
    "print(\"\")\n",
    "\n",
    "\n",
    "while True:\n",
    "    # Take input from the user\n",
    "    choice = input(\"Enter choice: \")\n",
    "    \n",
    "    # Check if choice is one of the seven options\n",
    "    \n",
    "    if choice in ('1','2','3','4','5','6','7'):\n",
    "\n",
    "   \n",
    "            if choice == '1':\n",
    "                print(\"\")\n",
    "                print(\"Enter two integers to get the sum.\")\n",
    "                a = float(input(\"Enter an integer:\"))\n",
    "                b = float(input(\"Enter another integer:\"))\n",
    "                print(\"\")\n",
    "                print(\"The sum of two integers is \",add(a,b),\".\")\n",
    "\n",
    "            elif choice == '2':\n",
    "                print(\"\")\n",
    "                print(\"Enter two integers to get the difference.\")\n",
    "                \n",
    "                a = float(input(\"Enter the minuend:\"))\n",
    "                b = float(input(\"Enter the subtrahend:\"))\n",
    "                \n",
    "                print(\"\")\n",
    "                print(\"The difference is\",subtract(a,b),\".\")\n",
    "            \n",
    "            elif choice == '3':\n",
    "                print(\"\")\n",
    "                print(\"Enter two integers to get the difference.\")\n",
    "                \n",
    "                a = float(input(\"Enter the multiplicand:\"))\n",
    "                b = float(input(\"Enter the multiplier:\"))\n",
    "                \n",
    "                print(\"\")\n",
    "                print(\"The product is\",multiply(a,b),\".\")\n",
    "                    \n",
    "            elif choice == '4':\n",
    "                print(\"\")\n",
    "                print(\"Enter two integers to get the difference.\")\n",
    "                \n",
    "                a = float(input(\"Enter the dividend:\"))\n",
    "                b = float(input(\"Enter the divisor:\"))\n",
    "                \n",
    "                print(\"\")\n",
    "                print(\"The quotient is\", divide(a,b),\".\")\n",
    "            \n",
    "            elif choice == '5':\n",
    "                print(\"\")\n",
    "                print(\"Enter two integers to get the remainder.\")\n",
    "                \n",
    "                a = float(input(\"Enter one integer:\"))\n",
    "                b = float(input(\"Enter another integer:\"))\n",
    "                \n",
    "                print(\"\")\n",
    "                print(\"The remainder is\", remainder(a,b),\".\")\n",
    "            \n",
    "            elif choice == '6':\n",
    "                print(\"\")\n",
    "                print(\"Enter an integer to get the logarithm of base 10.\")\n",
    "                \n",
    "                log = math.log10(a)\n",
    "                a = float(input(\"Enter the logarithm: \"))\n",
    "                \n",
    "                print(\"\")\n",
    "                print(\"Log of\", a, \"is %.2f\" %log,\".\")\n",
    "            \n",
    "            elif choice == '7':\n",
    "                print(\"\")\n",
    "                print(\"Enter two integers to get the logarithm of ab.\")\n",
    "                \n",
    "                a = float(input(\"Enter log a:\"))\n",
    "                b = float(input(\"Enter log b:\"))\n",
    "\n",
    "                log = math.log10(a * b)\n",
    "\n",
    "                print(\"Log(ab) is %.2f\" %log,\".\")\n",
    "                print(\"\")\n",
    "                print(\"It is the same with\",\"( log\",a,\"+ log\",b,\")\")\n",
    "                print(\"which is equivalent to %.2f\" %log,\".\")\n",
    "            break\n",
    "else:\n",
    "     print(\"Invalid Input\")"
   ]
  },
  {
   "cell_type": "markdown",
   "metadata": {},
   "source": [
    "#### Exercise 4: Area and Volume (15 Lines) \n",
    "\n",
    "Write a program that begins by reading a radius, r, from the user. The program will continue by computing and displaying the area of a circle with radius r and the volume of a sphere with radius r. Use the pi constant in the math module in your calculations. "
   ]
  },
  {
   "cell_type": "code",
   "execution_count": 1,
   "metadata": {
    "scrolled": true
   },
   "outputs": [
    {
     "name": "stdout",
     "output_type": "stream",
     "text": [
      "Circle:\n",
      "1. Find the Area\n",
      "2. Find the Volume\n",
      "\n",
      "Enter choice: 1\n",
      "Enter the radius:10\n",
      "\n",
      "The area of a circle is 314.16 .\n"
     ]
    }
   ],
   "source": [
    "#Area Volume of a circle using input r\n",
    "\n",
    "import math\n",
    "\n",
    "print(\"Circle:\")\n",
    "print(\"1. Find the Area\")\n",
    "print(\"2. Find the Volume\")\n",
    "print(\"\")\n",
    "\n",
    "\n",
    "while True:\n",
    "    # Take input from the user\n",
    "    choice = input(\"Enter choice: \")\n",
    "    \n",
    "    # Check if choice is one of the two options\n",
    "    \n",
    "    if choice in ('1','2'):\n",
    "    \n",
    "        if choice == '1':\n",
    "                r = float(input(\"Enter the radius:\"))\n",
    "                A = math.pi * pow(r,2)\n",
    "                \n",
    "                print(\"\")\n",
    "                print(\"The area of a circle is %.2f\" %A,\".\")\n",
    "\n",
    "        elif choice == '2':\n",
    "                r = float(input(\"Enter the radius:\"))\n",
    "                V = (4/3) * math.pi * pow(r,3)\n",
    "                \n",
    "                print(\"\") \n",
    "                print(\"The volume of a sphere is %.2f\" %V,\".\")\n",
    "        break\n",
    "else:\n",
    "     print(\"Invalid Input\")"
   ]
  },
  {
   "cell_type": "markdown",
   "metadata": {},
   "source": [
    "##### In Lesson 1, we learned how:\n",
    "\n",
    "* to use the activecode component and multiple choice questions in textbook \n",
    "* to use and interpret the Codelens component"
   ]
  }
 ],
 "metadata": {
  "kernelspec": {
   "display_name": "Python 3",
   "language": "python",
   "name": "python3"
  },
  "language_info": {
   "codemirror_mode": {
    "name": "ipython",
    "version": 3
   },
   "file_extension": ".py",
   "mimetype": "text/x-python",
   "name": "python",
   "nbconvert_exporter": "python",
   "pygments_lexer": "ipython3",
   "version": "3.8.3"
  }
 },
 "nbformat": 4,
 "nbformat_minor": 2
}
